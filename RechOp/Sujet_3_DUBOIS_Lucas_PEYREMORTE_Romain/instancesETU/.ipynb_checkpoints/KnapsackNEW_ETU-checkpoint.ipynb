{
 "cells": [
  {
   "cell_type": "markdown",
   "metadata": {},
   "source": [
    "# TP 2-3 : Branch-and-bound applied to a knapsack problem"
   ]
  },
  {
   "cell_type": "markdown",
   "metadata": {},
   "source": [
    "### Initialisation (à faire une seule fois)"
   ]
  },
  {
   "cell_type": "code",
   "execution_count": 1,
   "metadata": {},
   "outputs": [
    {
     "name": "stderr",
     "output_type": "stream",
     "text": [
      "\u001b[32m\u001b[1m    Updating\u001b[22m\u001b[39m registry at `~/.julia/registries/General`\n",
      "\u001b[32m\u001b[1m   Resolving\u001b[22m\u001b[39m package versions...\n",
      "\u001b[32m\u001b[1m  No Changes\u001b[22m\u001b[39m to `~/.julia/environments/v1.6/Project.toml`\n",
      "\u001b[32m\u001b[1m  No Changes\u001b[22m\u001b[39m to `~/.julia/environments/v1.6/Manifest.toml`\n",
      "\u001b[32m\u001b[1m   Resolving\u001b[22m\u001b[39m package versions...\n",
      "\u001b[32m\u001b[1m  No Changes\u001b[22m\u001b[39m to `~/.julia/environments/v1.6/Project.toml`\n",
      "\u001b[32m\u001b[1m  No Changes\u001b[22m\u001b[39m to `~/.julia/environments/v1.6/Manifest.toml`\n"
     ]
    }
   ],
   "source": [
    "import Pkg; \n",
    "Pkg.add(\"GraphRecipes\"); Pkg.add(\"Plots\"); \n",
    "using GraphRecipes, Plots #only used to visualize the search tree at the end of the branch-and-bound"
   ]
  },
  {
   "cell_type": "markdown",
   "metadata": {},
   "source": [
    "### Récupération des données"
   ]
  },
  {
   "cell_type": "code",
   "execution_count": 2,
   "metadata": {},
   "outputs": [
    {
     "data": {
      "text/plain": [
       "readKnaptxtInstance (generic function with 1 method)"
      ]
     },
     "execution_count": 2,
     "metadata": {},
     "output_type": "execute_result"
    }
   ],
   "source": [
    "function readKnaptxtInstance(filename)\n",
    "    price=[]\n",
    "    weight=[]\n",
    "    KnapCap=[]\n",
    "    open(filename) do f\n",
    "        for i in 1:3\n",
    "            tok = split(readline(f))\n",
    "            if(tok[1] == \"ListPrices=\")\n",
    "                for i in 2:(length(tok)-1)\n",
    "                    push!(price,parse(Int64, tok[i]))\n",
    "                end\n",
    "            elseif(tok[1] == \"ListWeights=\")\n",
    "                for i in 2:(length(tok)-1)\n",
    "                    push!(weight,parse(Int64, tok[i]))\n",
    "                end\n",
    "            elseif(tok[1] == \"Capacity=\")\n",
    "                push!(KnapCap, parse(Int64, tok[2]))\n",
    "            else\n",
    "                println(\"Unknown read :\", tok)\n",
    "            end \n",
    "        end\n",
    "    end\n",
    "    capacity=KnapCap[1]\n",
    "    return price, weight, capacity\n",
    "end"
   ]
  },
  {
   "cell_type": "markdown",
   "metadata": {},
   "source": [
    "### Tests de sondabilités TA, TO et TR basés sur le modèle linéaire"
   ]
  },
  {
   "cell_type": "code",
   "execution_count": 3,
   "metadata": {},
   "outputs": [
    {
     "data": {
      "text/plain": [
       "TestsSondabilite_LP (generic function with 1 method)"
      ]
     },
     "execution_count": 3,
     "metadata": {},
     "output_type": "execute_result"
    }
   ],
   "source": [
    "function TestsSondabilite_LP(model2, x, BestProfit, Bestsol)\n",
    "    TA, TO, TR = false, false, false\n",
    "    if(termination_status(model2) == MOI.INFEASIBLE)#Test de faisabilite\n",
    "        TA=true\n",
    "        println(\"TA\")\n",
    "    elseif(objective_value(model2) <= BestProfit) #Test d'optimalite\n",
    "        TO=true\n",
    "        println(\"TO\")\n",
    "    elseif( prod(abs.([round.(v, digits=0) for v in value.(x)]-value.(x)) .<= fill(10^-5, size(x))) \n",
    "        ) #Test de resolution\n",
    "        TR=true\n",
    "        println(\"TR\")\n",
    "        #if (value(benef) >= BestProfit)\n",
    "        if (objective_value(model2) >= BestProfit)\n",
    "            Bestsol = value.(x)\n",
    "            #BestProfit=value(benef)\n",
    "            BestProfit=objective_value(model2)\n",
    "            println(\"\\nNew Solution memorized \", Bestsol, \" with bestprofit \", BestProfit, \"\\n\")\n",
    "        end\n",
    "    else\n",
    "        println(\"non sondable\")\n",
    "    end\n",
    "    TA, TO, TR, Bestsol, BestProfit\n",
    "end"
   ]
  },
  {
   "cell_type": "markdown",
   "metadata": {},
   "source": [
    "## Procédure de séparation (branching) et stratégie d'exploration permettant de se placer au prochain noeud à traiter"
   ]
  },
  {
   "cell_type": "code",
   "execution_count": 4,
   "metadata": {},
   "outputs": [
    {
     "data": {
      "text/plain": [
       "ExplorerAutreNoeud_depthfirst! (generic function with 1 method)"
      ]
     },
     "execution_count": 4,
     "metadata": {},
     "output_type": "execute_result"
    }
   ],
   "source": [
    "\n",
    "function SeparerNoeud_lexicographic_depthfirst!(listobjs, listvals, n)\n",
    "    # this node is non-sondable. Apply the branching criterion to separate it into two subnodes\n",
    "    # and choose the child-node at the left  \n",
    "    \n",
    "    # lexicographic branching criterion: branch on the 1st object not yet fixed\n",
    "    i, obj = 1, 0\n",
    "    while((i <= n) && (obj==0))\n",
    "        if(!(i in listobjs))\n",
    "            obj=i\n",
    "        end\n",
    "        i+=1\n",
    "    end\n",
    "    \n",
    "    println(\"\\nbranch on object \", obj, \"\\n\")\n",
    "\n",
    "    # depthfirst exploration strategy: the node selected will be the most left of the child-nodes just created\n",
    "    push!(listobjs,obj) #save the identity of the object selected for branching\n",
    "    push!(listvals,1.0) #save the node selected, identified by the value assigned to the variable/object chosen\n",
    "end\n",
    "\n",
    "\n",
    "function ExplorerAutreNoeud_depthfirst!(listobjs, listvals, listnodes)\n",
    "    #this node is sondable, go back to parent node then right child if possible\n",
    "    \n",
    "    stop=false\n",
    "    #check if we are not at the root node\n",
    "    if (length(listobjs)>= 1)\n",
    "        #go back to parent node\n",
    "        obj=pop!(listobjs)\n",
    "        theval=pop!(listvals)\n",
    "        tmp=pop!(listnodes)\n",
    "\n",
    "        #go to right child if possible, otherwise go back to parent\n",
    "        while( (theval==0.0) && (length(listobjs)>= 1))\n",
    "            obj=pop!(listobjs)\n",
    "            theval=pop!(listvals)\n",
    "            tmp=pop!(listnodes)\n",
    "        end\n",
    "        if theval==1.0\n",
    "            push!(listobjs,obj)\n",
    "            push!(listvals,0.0)\n",
    "        else\n",
    "            println(\"\\nFINISHED\")\n",
    "            stop=true\n",
    "        end\n",
    "    else\n",
    "        #the root node was sondable\n",
    "        println(\"\\nFINISHED\")\n",
    "        stop=true\n",
    "    end\n",
    "    return stop \n",
    "end"
   ]
  },
  {
   "cell_type": "markdown",
   "metadata": {},
   "source": [
    "###  Création de la relaxation linéaire (= modèle associé au noeud 0): <span style=\"color:red\"> SECTION A SUPPRIMER !!!! </span>\n",
    "\n",
    "<span style=\"color:red\"> Cette section est à commenter/supprimer et remplacer par vos propres calculs de bornes supérieures et autres, par exemple basées sur les bornes 1 et 2 vues en cours, ou d'autres calculs de bornes de votre choix/conception validés au préalable par votre encadrant/e de TP </span>"
   ]
  },
  {
   "cell_type": "code",
   "execution_count": 5,
   "metadata": {},
   "outputs": [
    {
     "name": "stderr",
     "output_type": "stream",
     "text": [
      "\u001b[32m\u001b[1m   Resolving\u001b[22m\u001b[39m package versions...\n",
      "\u001b[32m\u001b[1m  No Changes\u001b[22m\u001b[39m to `~/.julia/environments/v1.6/Project.toml`\n",
      "\u001b[32m\u001b[1m  No Changes\u001b[22m\u001b[39m to `~/.julia/environments/v1.6/Manifest.toml`\n",
      "\u001b[32m\u001b[1m   Resolving\u001b[22m\u001b[39m package versions...\n",
      "\u001b[32m\u001b[1m  No Changes\u001b[22m\u001b[39m to `~/.julia/environments/v1.6/Project.toml`\n",
      "\u001b[32m\u001b[1m  No Changes\u001b[22m\u001b[39m to `~/.julia/environments/v1.6/Manifest.toml`\n"
     ]
    },
    {
     "data": {
      "text/plain": [
       "CreationModele_LP (generic function with 1 method)"
      ]
     },
     "execution_count": 5,
     "metadata": {},
     "output_type": "execute_result"
    }
   ],
   "source": [
    "Pkg.add(\"Clp\");\n",
    "Pkg.add(\"JuMP\");\n",
    "using JuMP, Clp\n",
    "\n",
    "function MajModele_LP!(model2, x, listobjs, listvals)\n",
    "    for i in 1:length(listobjs)\n",
    "        set_lower_bound(x[listobjs[i]],listvals[i])\n",
    "        set_upper_bound(x[listobjs[i]],listvals[i])\n",
    "    end\n",
    "end\n",
    "\n",
    "function Reset_LP!(model2, x, listobjs)\n",
    "    for i in 1:length(listobjs)\n",
    "        set_lower_bound(x[listobjs[i]],0.0)\n",
    "        set_upper_bound(x[listobjs[i]],1.0)\n",
    "    end\n",
    "end\n",
    "\n",
    "function Reset_allLP!(model2, x)\n",
    "    for i in 1:length(x)\n",
    "        set_lower_bound(x[i],0.0)\n",
    "        set_upper_bound(x[i],1.0)\n",
    "    end\n",
    "end\n",
    "\n",
    "function CreationModele_LP(price, weight, capacity)\n",
    "# ROOT NODE\n",
    "    \n",
    "    n=length(price)\n",
    "    \n",
    "    model2 = Model(Clp.Optimizer) # set optimizer\n",
    "    set_optimizer_attribute(model2, \"LogLevel\", 0) #don't display anything during solve\n",
    "    set_optimizer_attribute(model2, \"Algorithm\", 4) #LP solver chosen is simplex\n",
    "\n",
    "    # define x variables as CONTINUOUS (recall that it is not possible to define binary variables in Clp)\n",
    "    @variable(model2, 0 <= x[i in 1:n] <= 1)\n",
    "\n",
    "    # define objective function\n",
    "    @objective(model2, Max, sum(price[i]*x[i] for i in 1:n))\n",
    "\n",
    "    # define the capacity constraint \n",
    "    @constraint(model2, sum(weight[i]*x[i] for i in 1:n) <=  capacity)\n",
    "\n",
    "    println(model2) \n",
    "\n",
    "    return model2, x\n",
    "end"
   ]
  },
  {
   "cell_type": "markdown",
   "metadata": {},
   "source": [
    "### Boucle principale : résoudre une relaxation, appliquer les tests de sondabilité, identifier le prochain noeud, répéter."
   ]
  },
  {
   "cell_type": "code",
   "execution_count": 6,
   "metadata": {},
   "outputs": [
    {
     "data": {
      "text/plain": [
       "SolveKnapInstance (generic function with 1 method)"
      ]
     },
     "execution_count": 6,
     "metadata": {},
     "output_type": "execute_result"
    }
   ],
   "source": [
    "\n",
    "function SolveKnapInstance(filename)\n",
    "\n",
    "    price, weight, capacity = readKnaptxtInstance(filename)\n",
    "\n",
    "    model2, x = CreationModele_LP(price, weight, capacity)\n",
    "\n",
    "    #create the structure to memorize the search tree for visualization at the end\n",
    "    trParentnodes=Int64[] #will store orig node of arc in search tree\n",
    "    trChildnodes=Int64[] #will store destination node of arc in search tree\n",
    "    trNamenodes=[] #will store names of nodes in search tree\n",
    "\n",
    "    #intermediate structure to navigate in the search tree\n",
    "    listobjs=[]\n",
    "    listvals=[]\n",
    "    listnodes=[]\n",
    "\n",
    "    BestProfit=-1\n",
    "    Bestsol=[]\n",
    "\n",
    "    current_node_number=0\n",
    "    stop = false\n",
    "\n",
    "    while(!stop)\n",
    "\n",
    "        println(\"\\nNode number \", current_node_number, \": \\n---------------\\n\")\n",
    "\n",
    "        #Update the graphical tree\n",
    "        push!(trNamenodes,current_node_number+1) \n",
    "        if(length(trNamenodes)>=2)\n",
    "            push!(trParentnodes,listnodes[end]+1) # +1 because the 1st node is \"node 0\"\n",
    "            push!(trChildnodes, current_node_number+1) # +1 because the 1st node is \"node 0\"\n",
    "        end\n",
    "        push!(listnodes, current_node_number)\n",
    "\n",
    "        \n",
    "        #create LP of current node\n",
    "        MajModele_LP!(model2, x, listobjs, listvals)\n",
    "        \n",
    "        println(model2)\n",
    "        \n",
    "        print(\"Solve the LP model of the current node to compute its bound: start ... \")\n",
    "\n",
    "        status = optimize!(model2)\n",
    "\n",
    "        println(\"... end\"); \n",
    "\n",
    "        print(\": Solution LP\")\n",
    "        if(termination_status(model2) == MOI.INFEASIBLE)#(has_values(model2))\n",
    "            print(\" : NOT AVAILABLE (probably infeasible or ressources limit reached)\")\n",
    "        else\n",
    "            print(\" \", objective_value(model2))\n",
    "            [print(\"\\t\", name(v),\"=\",value(v)) for v in all_variables(model2)] \n",
    "        end\n",
    "        println(\" \"); \n",
    "\n",
    "\n",
    "        println(\"\\nPrevious Solution memorized \", Bestsol, \" with bestprofit \", BestProfit, \"\\n\")\n",
    "\n",
    "        TA, TO, TR, Bestsol, BestProfit = TestsSondabilite_LP(model2, x, BestProfit, Bestsol)\n",
    "\n",
    "        is_node_sondable = TA || TO || TR\n",
    "\n",
    "        #Reset_LP!(model2, x, listobjs)\n",
    "\n",
    "        if(!is_node_sondable)\n",
    "            SeparerNoeud_lexicographic_depthfirst!(listobjs, listvals, length(price))\n",
    "        else\n",
    "            stop = ExplorerAutreNoeud_depthfirst!(listobjs, listvals, listnodes)\n",
    "        end\n",
    "        \n",
    "        Reset_allLP!(model2, x)\n",
    "\n",
    "        current_node_number = current_node_number + 1\n",
    "    end\n",
    "\n",
    "    println(\"\\n******\\n\\nOptimal value = \", BestProfit, \"\\n\\nOptimal x=\", Bestsol)\n",
    "\n",
    "    return BestProfit, Bestsol, trParentnodes, trChildnodes, trNamenodes\n",
    "\n",
    "end\n"
   ]
  },
  {
   "cell_type": "markdown",
   "metadata": {},
   "source": [
    "### Affichage du résultat final"
   ]
  },
  {
   "cell_type": "code",
   "execution_count": 7,
   "metadata": {},
   "outputs": [
    {
     "ename": "LoadError",
     "evalue": "SystemError: opening file \"instancesETU/KNAPnewformat/test.opb.txt\": Aucun fichier ou dossier de ce type",
     "output_type": "error",
     "traceback": [
      "SystemError: opening file \"instancesETU/KNAPnewformat/test.opb.txt\": Aucun fichier ou dossier de ce type",
      "",
      "Stacktrace:",
      "  [1] systemerror(p::String, errno::Int32; extrainfo::Nothing)",
      "    @ Base ./error.jl:168",
      "  [2] #systemerror#62",
      "    @ ./error.jl:167 [inlined]",
      "  [3] systemerror",
      "    @ ./error.jl:167 [inlined]",
      "  [4] open(fname::String; lock::Bool, read::Nothing, write::Nothing, create::Nothing, truncate::Nothing, append::Nothing)",
      "    @ Base ./iostream.jl:293",
      "  [5] open",
      "    @ ./iostream.jl:282 [inlined]",
      "  [6] open(f::var\"#1#2\"{Vector{Any}, Vector{Any}, Vector{Any}}, args::String; kwargs::Base.Iterators.Pairs{Union{}, Union{}, Tuple{}, NamedTuple{(), Tuple{}}})",
      "    @ Base ./io.jl:328",
      "  [7] open",
      "    @ ./io.jl:328 [inlined]",
      "  [8] readKnaptxtInstance",
      "    @ ./In[2]:5 [inlined]",
      "  [9] SolveKnapInstance(filename::String)",
      "    @ Main ./In[6]:4",
      " [10] top-level scope",
      "    @ In[7]:1",
      " [11] eval",
      "    @ ./boot.jl:360 [inlined]",
      " [12] include_string(mapexpr::typeof(REPL.softscope), mod::Module, code::String, filename::String)",
      "    @ Base ./loading.jl:1116"
     ]
    }
   ],
   "source": [
    "BestProfit, Bestsol, trParentnodes, trChildnodes, trNamenodes = SolveKnapInstance(\"instancesETU/KNAPnewformat/test.opb.txt\")\n",
    "println(\"\\n******\\n\\nOptimal value = \", BestProfit, \"\\n\\nOptimal x=\", Bestsol)\n",
    "graphplot(trParentnodes, trChildnodes, names=trNamenodes, method=:tree)"
   ]
  },
  {
   "cell_type": "code",
   "execution_count": null,
   "metadata": {},
   "outputs": [],
   "source": []
  },
  {
   "cell_type": "code",
   "execution_count": null,
   "metadata": {},
   "outputs": [],
   "source": []
  }
 ],
 "metadata": {
  "kernelspec": {
   "display_name": "Julia 1.6.2",
   "language": "julia",
   "name": "julia-1.6"
  },
  "language_info": {
   "file_extension": ".jl",
   "mimetype": "application/julia",
   "name": "julia",
   "version": "1.6.2"
  }
 },
 "nbformat": 4,
 "nbformat_minor": 4
}
