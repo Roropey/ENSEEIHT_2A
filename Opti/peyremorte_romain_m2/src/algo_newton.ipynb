{
 "cells": [
  {
   "cell_type": "markdown",
   "metadata": {},
   "source": [
    "<center>\n",
    "<h1> TP-Projet d'optimisation numérique </h1>\n",
    "<h1> Algorithme de Newton </h1>\n",
    "</center>"
   ]
  },
  {
   "cell_type": "code",
   "execution_count": 1,
   "metadata": {},
   "outputs": [
    {
     "name": "stderr",
     "output_type": "stream",
     "text": [
      "\u001b[32m\u001b[1m    Updating\u001b[22m\u001b[39m registry at `~/.julia/registries/General.toml`\n"
     ]
    },
    {
     "name": "stderr",
     "output_type": "stream",
     "text": [
      "\u001b[32m\u001b[1m   Resolving\u001b[22m\u001b[39m package versions...\n"
     ]
    },
    {
     "name": "stderr",
     "output_type": "stream",
     "text": [
      "\u001b[32m\u001b[1m  No Changes\u001b[22m\u001b[39m to `~/.julia/environments/v1.8/Project.toml`\n",
      "\u001b[32m\u001b[1m  No Changes\u001b[22m\u001b[39m to `~/.julia/environments/v1.8/Manifest.toml`\n"
     ]
    }
   ],
   "source": [
    "import Pkg; Pkg.add(\"Documenter\")"
   ]
  },
  {
   "cell_type": "markdown",
   "metadata": {},
   "source": [
    "## Implémentation \n",
    " \n",
    "1. Coder l’algorithme de Newton local en respectant la spécification ci-dessous (fichier `Algorithme_De_Newton.jl`)\n"
   ]
  },
  {
   "cell_type": "code",
   "execution_count": 2,
   "metadata": {},
   "outputs": [
    {
     "data": {
      "text/plain": [
       "Algorithme_De_Newton"
      ]
     },
     "metadata": {},
     "output_type": "display_data"
    }
   ],
   "source": [
    "using LinearAlgebra\n",
    "using Documenter\n",
    "using Markdown  \n",
    "include(\"Algorithme_De_Newton.jl\")\n",
    "# @doc Algorithme_De_Newton"
   ]
  },
  {
   "cell_type": "markdown",
   "metadata": {},
   "source": [
    "2. Vérifier que les tests ci-dessous passent."
   ]
  },
  {
   "cell_type": "code",
   "execution_count": 3,
   "metadata": {},
   "outputs": [
    {
     "name": "stdout",
     "output_type": "stream",
     "text": [
      "\u001b[0m\u001b[1mTest Summary:    | \u001b[22m\u001b[32m\u001b[1mPass  \u001b[22m\u001b[39m\u001b[36m\u001b[1mTotal  \u001b[22m\u001b[39m\u001b[0m\u001b[1mTime\u001b[22m\n",
      "Test algo newton | \u001b[32m  22  \u001b[39m\u001b[36m   22  \u001b[39m\u001b[0m5.2s\n"
     ]
    }
   ],
   "source": [
    "using Test\n",
    "\n",
    "# Tolérance pour les tests d'égalité\n",
    "tol_erreur = sqrt(eps())\n",
    "\n",
    "## ajouter les fonctions de test\n",
    "include(\"../test/fonctions_de_tests.jl\")\n",
    "include(\"../test/tester_algo_newton.jl\")\n",
    "include(\"../src/Algorithme_De_Newton.jl\")\n",
    "\n",
    "affiche = false\n",
    "\n",
    "@testset \"Test algo newton\" begin\n",
    "\t# Tester l'algorithme de Newton\n",
    "\ttester_algo_newton(affiche,Algorithme_De_Newton)\n",
    "end;"
   ]
  },
  {
   "cell_type": "code",
   "execution_count": 4,
   "metadata": {},
   "outputs": [
    {
     "name": "stdout",
     "output_type": "stream",
     "text": [
      "-------------------------------------------------------------------------\n",
      "\u001b[34m\u001b[1mRésultats de : Newton appliqué à f0 au point initial -1.5707963267948966:\u001b[22m\u001b[39m\n",
      "  * xsol = -1.5707963267948966\n",
      "  * f(xsol) = -1.0\n",
      "  * nb_iters = 0\n",
      "  * flag = 0\n",
      "  * sol_exacte : -1.5707963267948966\n",
      "-------------------------------------------------------------------------\n",
      "\u001b[34m\u001b[1mRésultats de : Newton appliqué à f0 au point initial -1.0707963267948966:\u001b[22m\u001b[39m\n",
      "  * xsol = -1.5707963267949088\n",
      "  * f(xsol) = -1.0\n",
      "  * nb_iters = 3\n",
      "  * flag = 0\n",
      "  * sol_exacte : -1.5707963267948966\n",
      "-------------------------------------------------------------------------\n",
      "\u001b[34m\u001b[1mRésultats de : Newton appliqué à f0 au point initial 1.5707963267948966:\u001b[22m\u001b[39m\n",
      "  * xsol = 1.5707963267948966\n",
      "  * f(xsol) = 1.0\n",
      "  * nb_iters = 0\n",
      "  * flag = 0\n",
      "  * sol_exacte : -1.5707963267948966\n"
     ]
    }
   ],
   "source": [
    "#using Pkg; Pkg.add(\"LinearAlgebra\"); Pkg.add(\"Markdown\")\n",
    "# using Documenter\n",
    "using LinearAlgebra\n",
    "using Markdown                             # Pour que les docstrings en début des fonctions ne posent\n",
    "                                           # pas de soucis. Ces docstrings sont utiles pour générer \n",
    "                                           # la documentation sous GitHub\n",
    "include(\"Algorithme_De_Newton.jl\")\n",
    "\n",
    "# Affichage les sorties de l'algorithme des Régions de confiance\n",
    "function my_afficher_resultats(algo,nom_fct,point_init,xmin,fxmin,flag,sol_exacte,nbiters)\n",
    "\tprintln(\"-------------------------------------------------------------------------\")\n",
    "\tprintstyled(\"Résultats de : \",algo, \" appliqué à \",nom_fct, \" au point initial \", point_init, \":\\n\",bold=true,color=:blue)\n",
    "\tprintln(\"  * xsol = \",xmin)\n",
    "\tprintln(\"  * f(xsol) = \",fxmin)\n",
    "\tprintln(\"  * nb_iters = \",nbiters)\n",
    "\tprintln(\"  * flag = \",flag)\n",
    "\tprintln(\"  * sol_exacte : \", sol_exacte)\n",
    "end\n",
    "\n",
    "# Fonction f0\n",
    "# -----------\n",
    "f0(x) =  sin(x)\n",
    "# la gradient de la fonction f0\n",
    "grad_f0(x) = cos(x)\n",
    "# la hessienne de la fonction f0\n",
    "hess_f0(x) = -sin(x)\n",
    "sol_exacte = -pi/2\n",
    "options = []\n",
    "\n",
    "x0 = sol_exacte\n",
    "xmin,f_min,flag,nb_iters = Algorithme_De_Newton(f0,grad_f0,hess_f0,x0,options)\n",
    "my_afficher_resultats(\"Newton\",\"f0\",x0,xmin,f_min,flag,sol_exacte,nb_iters)\n",
    "x0 = -pi/2+0.5\n",
    "xmin,f_min,flag,nb_iters = Algorithme_De_Newton(f0,grad_f0,hess_f0,x0,options)\n",
    "my_afficher_resultats(\"Newton\",\"f0\",x0,xmin,f_min,flag,sol_exacte,nb_iters)\n",
    "x0 = pi/2\n",
    "xmin,f_min,flag,nb_iters = Algorithme_De_Newton(f0,grad_f0,hess_f0,x0,options)\n",
    "my_afficher_resultats(\"Newton\",\"f0\",x0,xmin,f_min,flag,sol_exacte,nb_iters)"
   ]
  },
  {
   "attachments": {},
   "cell_type": "markdown",
   "metadata": {},
   "source": [
    "## Interprétation \n",
    "\n",
    "1. Justifier les résultats obtenus pour l'exemple $f_0$ ci-dessus;\n",
    "\n",
    "Le premier résultat obtenue correspond à la solution car le $x_0$ de départ est la solution. Ainsi la condition d'arrêt de l'algorithme est déjà obtenue avant même de commencé, comme cela se voit avec le fait qu'il n'y ait eu 0 itération.\n",
    "\n",
    "Le second résultat est obtenue en partant d'un point quelconque qui est proche de la solution par rapport à d'autres extremum locaux. Ainsi en appliquant l'algorithme et au bout de 3 itérations, on obtient le résultat voulu qui vérifie la condition de convergence vers un gradient nul.\n",
    "\n",
    "Le troisième résultat montre les limites de l'algorithme. En effet, la condition de convergence est vraie lorsque $||\\nabla f(x_k)|| \\approx 0$, c'est à dire lrosque $x_k$ est un extremum local. Hors, dans le troisième cas, on initialise l'algorithme à $x_0 = \\frac{\\pi}{2}$ qui est un maximum local, et donc $||\\nabla f(\\frac{\\pi}{2})|| = \\cos(\\frac{\\pi}{2}) = 0$. Ainsi, l'algorithme pense avoir trouvé une solution minimale à l'initialisation (itération 0), or ce n'est pas le cas.\n",
    "\n",
    "2. Soit \n",
    "$$ f_{1} : \\mathbb{R}^3 \\rightarrow \\mathbb{R} (x_1,x_2, x_3) \\mapsto  2 (x_1 +x_2 + x_3 -3)^2 + (x_1-x_2)^2 + (x_2 - x_3)^2$$ \n",
    "\n",
    "Justifier que l’algorithme implémenté converge en une itération pour $f_{1}$;\n",
    "\n",
    "Nous avons donc pour $f_1$ :\n",
    "$$ \\nabla f_1(x_1,x_2,x_3) = \\begin{pmatrix}\n",
    "6x_1+2x_2+4x_3 - 12\\\\\n",
    "2x_1+8x_2+2x_3 - 12\\\\\n",
    "4x_1+2x_2+6x_3 - 12\\\\\n",
    "\\end{pmatrix}$$\n",
    "\n",
    "$$ \\nabla^2 f_1(x_1,x_2,x_3) = \\begin{pmatrix}\n",
    "6 & 2 & 4\\\\\n",
    "2 & 8 & 2\\\\\n",
    "4 & 2 & 6\\\\\n",
    "\\end{pmatrix}$$\n",
    "\n",
    "En supposant que $(x_{1},x_2,x_3)$ n'est pas solutionet en appliquant l'algorithme, on se trouve à l'étape où on cherche $d=(d_1,d_2,d_3)^T$ tel que  :\n",
    "$$\\nabla^2 f_1(x_1,x_2,x_3) \\begin{pmatrix} d_1 \\\\ d_2 \\\\ d_3 \\end{pmatrix} = -\\nabla f_1(x_1,x_2,x_3) $$\n",
    "\n",
    "On a donc le système suivant :\n",
    "\n",
    "$$\\left\\{\\begin{matrix}\n",
    "6d_1+2d_2+4d_3 & = & 6x_1+2x_2+4x_3 - 12 \\\\\n",
    "2d_1+8d_2+2d_3 & = & 2x_1+8x_2+2x_3 - 12 \\\\\n",
    "4d_1+2d_2+6d_3 & = & 4x_1+2x_2+6x_3 - 12\n",
    "\\end{matrix}\\right.$$\n",
    "\n",
    "Or, on a comme solution :\n",
    "$$\\begin{pmatrix}\n",
    "d_1\\\\\n",
    "d_2\\\\\n",
    "d_3\\\\\n",
    "\\end{pmatrix} = \\begin{pmatrix}\n",
    "1-x_1\\\\\n",
    "1-x_2\\\\\n",
    "1-x_3\\\\\n",
    "\\end{pmatrix}$$\n",
    "\n",
    "Ce qui fait qu'à l'étape suivante, on a :\n",
    "$$ x_{k=1} =  \\begin{pmatrix}\n",
    "1\\\\\n",
    "1\\\\\n",
    "1\\\\\n",
    "\\end{pmatrix}$$\n",
    "\n",
    "Et, de plus :\n",
    "\n",
    "$$ \\nabla f_1(x_{k=1}) = \\begin{pmatrix}\n",
    "6x_1+2x_2+4x_3 - 12\\\\\n",
    "2x_1+8x_2+2x_3 - 12\\\\\n",
    "4x_1+2x_2+6x_3 - 12\\\\\n",
    "\\end{pmatrix} = \\begin{pmatrix}\n",
    "0\\\\\n",
    "0\\\\\n",
    "0\\\\\n",
    "\\end{pmatrix}\n",
    "$$\n",
    "\n",
    "On a donc convergence dès la première itération.\n",
    "\n",
    "3. Soit \n",
    "$$ f_{2} : \\mathbb{R}^2 \\rightarrow \\mathbb{R} (x_1,x_2) \\mapsto 100(x_2-x_1^2)^2 + (1-x_1)^2 $$ \n",
    "\n",
    "Justifier que l’algorithme puisse ne pas converger pour $f_{2}$ avec certains points initiaux.\n",
    "\n",
    "Nous avons pour $f_2$ :\n",
    "$$ \\nabla f_2(x_1,x_2) = \\begin{pmatrix}\n",
    "400x_1^3 -400x_1x_2+2x_1 - 2\\\\\n",
    "200x_1^2-200x_2\\\\\n",
    "\\end{pmatrix}$$\n",
    "\n",
    "$$ \\nabla^2 f_2(x_1,x_2) = \\begin{pmatrix}\n",
    "1200x_1^2-400x_2+2 & -400x_1 \\\\\n",
    "-400x_1 & 200 \\\\\n",
    "\\end{pmatrix}$$\n",
    "\n",
    "Pour que l'algorithme converge, il faut que la méthode de Newton soit bien défini et donc qu'à  chaque itération, on ait $\\nabla^2 f_2({x_1}_k,{x_2}_k)$ qui soit défini positive (et donc pour la première itération $x_k=x_0$).\n",
    "Or pour par exemple le point initial $x_0 = (0,\\frac{1}{200})$, on a :\n",
    "$$ \\nabla^2 f_2(0,\\frac{1}{200}) = \\begin{pmatrix}\n",
    "0 & 0 \\\\\n",
    "0 & 200 \\\\\n",
    "\\end{pmatrix}$$\n",
    "Ce qui n'est pas une matrice définie positive. L'algorithme ne peut pas donc converger. Surtout que si on tente de résoudre :\n",
    "$$\\nabla^2 f_2(x_1,x_2) \\begin{pmatrix} d_1 \\\\ d_2 \\end{pmatrix} = -\\nabla f_2(x_1,x_2) $$\n",
    "On n'obtient pas de solution car il n'est pas possible de déterminer $d_1$.\n",
    "\n",
    "On a donc au moins un point initial avec lequel l'algorithme ne peut pas converger pour $f_2$.\n",
    "\n"
   ]
  }
 ],
 "metadata": {
  "kernelspec": {
   "display_name": "Julia 1.8.2",
   "language": "julia",
   "name": "julia-1.8"
  },
  "language_info": {
   "file_extension": ".jl",
   "mimetype": "application/julia",
   "name": "julia",
   "version": "1.8.2"
  }
 },
 "nbformat": 4,
 "nbformat_minor": 4
}
