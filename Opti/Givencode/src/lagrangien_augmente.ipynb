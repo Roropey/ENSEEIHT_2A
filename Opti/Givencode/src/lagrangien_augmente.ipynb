{
 "cells": [
  {
   "cell_type": "markdown",
   "metadata": {},
   "source": [
    "<center>\n",
    "<h1> TP-Projet d'optimisation numérique </h1>\n",
    "<h1> Algorithme du Lagrangien Augmenté </h1>\n",
    "</center>"
   ]
  },
  {
   "cell_type": "code",
   "execution_count": 1,
   "metadata": {},
   "outputs": [
    {
     "name": "stderr",
     "output_type": "stream",
     "text": [
      "\u001b[32m\u001b[1m    Updating\u001b[22m\u001b[39m registry at `~/.julia/registries/General.toml`\n"
     ]
    },
    {
     "name": "stderr",
     "output_type": "stream",
     "text": [
      "\u001b[32m\u001b[1m   Resolving\u001b[22m\u001b[39m package versions...\n"
     ]
    },
    {
     "name": "stderr",
     "output_type": "stream",
     "text": [
      "\u001b[32m\u001b[1m  No Changes\u001b[22m\u001b[39m to `~/.julia/environments/v1.8/Project.toml`\n",
      "\u001b[32m\u001b[1m  No Changes\u001b[22m\u001b[39m to `~/.julia/environments/v1.8/Manifest.toml`\n"
     ]
    }
   ],
   "source": [
    "import Pkg; Pkg.add(\"Documenter\")"
   ]
  },
  {
   "cell_type": "markdown",
   "metadata": {},
   "source": [
    "## Implémentation\n",
    "\n",
    "1. Implémenter l'algorithme du lagrangien augmenté, en utilisant les différentes méthodes\n",
    "qui ont été vues en première partie pour la résolution de la suite de problémes sans\n",
    "contraintes (fichier `Lagrangien_Augmente.jl`). La spécification de l'algorithme du Lagrangien augmenté est donnée ci-dessous.\n",
    " "
   ]
  },
  {
   "cell_type": "code",
   "execution_count": 2,
   "metadata": {},
   "outputs": [
    {
     "data": {
      "text/latex": [
       "\\paragraph{Objet}\n",
       "Résolution des problèmes de minimisation avec une contrainte d'égalité scalaire par l'algorithme du lagrangien augmenté.\n",
       "\n",
       "\\paragraph{Syntaxe}\n",
       "\\begin{verbatim}\n",
       "xmin,fxmin,flag,iter,muks,lambdaks = Lagrangien_Augmente(algo,f,gradf,hessf,c,gradc,hessc,x0,options)\n",
       "\\end{verbatim}\n",
       "\\paragraph{Entrées}\n",
       "\\begin{itemize}\n",
       "\\item algo : (String) l'algorithme sans contraintes à utiliser:\n",
       "\n",
       "\\begin{itemize}\n",
       "\\item \"newton\"  : pour l'algorithme de Newton\n",
       "\n",
       "\n",
       "\\item \"cauchy\"  : pour le pas de Cauchy\n",
       "\n",
       "\n",
       "\\item \"gct\"     : pour le gradient conjugué tronqué\n",
       "\n",
       "\\end{itemize}\n",
       "\n",
       "\\item f : (Function) la fonction à minimiser\n",
       "\n",
       "\n",
       "\\item gradf       : (Function) le gradient de la fonction\n",
       "\n",
       "\n",
       "\\item hessf       : (Function) la hessienne de la fonction\n",
       "\n",
       "\n",
       "\\item c     : (Function) la contrainte [x est dans le domaine des contraintes ssi $c(x)=0$]\n",
       "\n",
       "\n",
       "\\item gradc : (Function) le gradient de la contrainte\n",
       "\n",
       "\n",
       "\\item hessc : (Function) la hessienne de la contrainte\n",
       "\n",
       "\n",
       "\\item x0 : (Array\\{Float,1\\}) la première composante du point de départ du Lagrangien\n",
       "\n",
       "\n",
       "\\item options : (Array\\{Float,1\\})\n",
       "\n",
       "\\begin{itemize}\n",
       "\\item[1. ] epsilon     : utilisé dans les critères d'arrêt\n",
       "\n",
       "\n",
       "\\item[2. ] tol         : la tolérance utilisée dans les critères d'arrêt\n",
       "\n",
       "\n",
       "\\item[3. ] itermax     : nombre maximal d'itération dans la boucle principale\n",
       "\n",
       "\n",
       "\\item[4. ] lambda0     : la deuxième composante du point de départ du Lagrangien\n",
       "\n",
       "\n",
       "\\item[5. ] mu0, tho    : valeurs initiales des variables de l'algorithme\n",
       "\n",
       "\\end{itemize}\n",
       "\\end{itemize}\n",
       "\\paragraph{Sorties}\n",
       "\\begin{itemize}\n",
       "\\item xmin : (Array\\{Float,1\\}) une approximation de la solution du problème avec contraintes\n",
       "\n",
       "\n",
       "\\item fxmin : (Float) $f(x_{min})$\n",
       "\n",
       "\n",
       "\\item flag : (Integer) indicateur du déroulement de l'algorithme\n",
       "\n",
       "\\begin{itemize}\n",
       "\\item 0    : convergence\n",
       "\n",
       "\n",
       "\\item 1    : nombre maximal d'itération atteint\n",
       "\n",
       "\n",
       "\\item (-1) : une erreur s'est produite\n",
       "\n",
       "\\end{itemize}\n",
       "\n",
       "\\item niters : (Integer) nombre d'itérations réalisées\n",
       "\n",
       "\n",
       "\\item muks : (Array\\{Float64,1\\}) tableau des valeurs prises par mu\\_k au cours de l'exécution\n",
       "\n",
       "\n",
       "\\item lambdaks : (Array\\{Float64,1\\}) tableau des valeurs prises par lambda\\_k au cours de l'exécution\n",
       "\n",
       "\\end{itemize}\n",
       "\\paragraph{Exemple d'appel}\n",
       "\\begin{verbatim}\n",
       "using LinearAlgebra\n",
       "algo = \"gct\" # ou newton|gct\n",
       "f(x)=100*(x[2]-x[1]^2)^2+(1-x[1])^2\n",
       "gradf(x)=[-400*x[1]*(x[2]-x[1]^2)-2*(1-x[1]) ; 200*(x[2]-x[1]^2)]\n",
       "hessf(x)=[-400*(x[2]-3*x[1]^2)+2  -400*x[1];-400*x[1]  200]\n",
       "c(x) =  (x[1]^2) + (x[2]^2) -1.5\n",
       "gradc(x) = [2*x[1] ;2*x[2]]\n",
       "hessc(x) = [2 0;0 2]\n",
       "x0 = [1; 0]\n",
       "options = []\n",
       "xmin,fxmin,flag,iter,muks,lambdaks = Lagrangien_Augmente(algo,f,gradf,hessf,c,gradc,hessc,x0,options)\n",
       "\\end{verbatim}\n",
       "\\paragraph{Tolérances des algorithmes appelés}\n",
       "Pour les tolérances définies dans les algorithmes appelés (Newton et régions de confiance), prendre les tolérances par défaut définies dans ces algorithmes.\n",
       "\n"
      ],
      "text/markdown": [
       "#### Objet\n",
       "\n",
       "Résolution des problèmes de minimisation avec une contrainte d'égalité scalaire par l'algorithme du lagrangien augmenté.\n",
       "\n",
       "#### Syntaxe\n",
       "\n",
       "```julia\n",
       "xmin,fxmin,flag,iter,muks,lambdaks = Lagrangien_Augmente(algo,f,gradf,hessf,c,gradc,hessc,x0,options)\n",
       "```\n",
       "\n",
       "#### Entrées\n",
       "\n",
       "  * algo : (String) l'algorithme sans contraintes à utiliser:\n",
       "\n",
       "      * \"newton\"  : pour l'algorithme de Newton\n",
       "      * \"cauchy\"  : pour le pas de Cauchy\n",
       "      * \"gct\"     : pour le gradient conjugué tronqué\n",
       "  * f : (Function) la fonction à minimiser\n",
       "  * gradf       : (Function) le gradient de la fonction\n",
       "  * hessf       : (Function) la hessienne de la fonction\n",
       "  * c     : (Function) la contrainte [x est dans le domaine des contraintes ssi $c(x)=0$]\n",
       "  * gradc : (Function) le gradient de la contrainte\n",
       "  * hessc : (Function) la hessienne de la contrainte\n",
       "  * x0 : (Array{Float,1}) la première composante du point de départ du Lagrangien\n",
       "  * options : (Array{Float,1})\n",
       "\n",
       "    1. epsilon     : utilisé dans les critères d'arrêt\n",
       "    2. tol         : la tolérance utilisée dans les critères d'arrêt\n",
       "    3. itermax     : nombre maximal d'itération dans la boucle principale\n",
       "    4. lambda0     : la deuxième composante du point de départ du Lagrangien\n",
       "    5. mu0, tho    : valeurs initiales des variables de l'algorithme\n",
       "\n",
       "#### Sorties\n",
       "\n",
       "  * xmin : (Array{Float,1}) une approximation de la solution du problème avec contraintes\n",
       "  * fxmin : (Float) $f(x_{min})$\n",
       "  * flag : (Integer) indicateur du déroulement de l'algorithme\n",
       "\n",
       "      * 0    : convergence\n",
       "      * 1    : nombre maximal d'itération atteint\n",
       "      * (-1) : une erreur s'est produite\n",
       "  * niters : (Integer) nombre d'itérations réalisées\n",
       "  * muks : (Array{Float64,1}) tableau des valeurs prises par mu_k au cours de l'exécution\n",
       "  * lambdaks : (Array{Float64,1}) tableau des valeurs prises par lambda_k au cours de l'exécution\n",
       "\n",
       "#### Exemple d'appel\n",
       "\n",
       "```julia\n",
       "using LinearAlgebra\n",
       "algo = \"gct\" # ou newton|gct\n",
       "f(x)=100*(x[2]-x[1]^2)^2+(1-x[1])^2\n",
       "gradf(x)=[-400*x[1]*(x[2]-x[1]^2)-2*(1-x[1]) ; 200*(x[2]-x[1]^2)]\n",
       "hessf(x)=[-400*(x[2]-3*x[1]^2)+2  -400*x[1];-400*x[1]  200]\n",
       "c(x) =  (x[1]^2) + (x[2]^2) -1.5\n",
       "gradc(x) = [2*x[1] ;2*x[2]]\n",
       "hessc(x) = [2 0;0 2]\n",
       "x0 = [1; 0]\n",
       "options = []\n",
       "xmin,fxmin,flag,iter,muks,lambdaks = Lagrangien_Augmente(algo,f,gradf,hessf,c,gradc,hessc,x0,options)\n",
       "```\n",
       "\n",
       "#### Tolérances des algorithmes appelés\n",
       "\n",
       "Pour les tolérances définies dans les algorithmes appelés (Newton et régions de confiance), prendre les tolérances par défaut définies dans ces algorithmes.\n"
      ],
      "text/plain": [
       "\u001b[1m  Objet\u001b[22m\n",
       "\u001b[1m  -------\u001b[22m\n",
       "\n",
       "  Résolution des problèmes de minimisation avec une contrainte d'égalité\n",
       "  scalaire par l'algorithme du lagrangien augmenté.\n",
       "\n",
       "\u001b[1m  Syntaxe\u001b[22m\n",
       "\u001b[1m  ---------\u001b[22m\n",
       "\n",
       "\u001b[36m  xmin,fxmin,flag,iter,muks,lambdaks = Lagrangien_Augmente(algo,f,gradf,hessf,c,gradc,hessc,x0,options)\u001b[39m\n",
       "\n",
       "\u001b[1m  Entrées\u001b[22m\n",
       "\u001b[1m  ---------\u001b[22m\n",
       "\n",
       "    •  algo : (String) l'algorithme sans contraintes à utiliser:\n",
       "       • \"newton\" : pour l'algorithme de Newton\n",
       "       • \"cauchy\" : pour le pas de Cauchy\n",
       "       • \"gct\" : pour le gradient conjugué tronqué\n",
       "\n",
       "    •  f : (Function) la fonction à minimiser\n",
       "\n",
       "    •  gradf : (Function) le gradient de la fonction\n",
       "\n",
       "    •  hessf : (Function) la hessienne de la fonction\n",
       "\n",
       "    •  c : (Function) la contrainte [x est dans le domaine des\n",
       "       contraintes ssi \u001b[35mc(x)=0\u001b[39m]\n",
       "\n",
       "    •  gradc : (Function) le gradient de la contrainte\n",
       "\n",
       "    •  hessc : (Function) la hessienne de la contrainte\n",
       "\n",
       "    •  x0 : (Array{Float,1}) la première composante du point de départ du\n",
       "       Lagrangien\n",
       "\n",
       "    •  options : (Array{Float,1})\n",
       "       1. epsilon : utilisé dans les critères d'arrêt\n",
       "       2. tol : la tolérance utilisée dans les critères d'arrêt\n",
       "       3. itermax : nombre maximal d'itération dans la boucle\n",
       "       principale\n",
       "       4. lambda0 : la deuxième composante du point de départ du\n",
       "       Lagrangien\n",
       "       5. mu0, tho : valeurs initiales des variables de\n",
       "       l'algorithme\n",
       "\n",
       "\u001b[1m  Sorties\u001b[22m\n",
       "\u001b[1m  ---------\u001b[22m\n",
       "\n",
       "    •  xmin : (Array{Float,1}) une approximation de la solution du\n",
       "       problème avec contraintes\n",
       "\n",
       "    •  fxmin : (Float) \u001b[35mf(x_{min})\u001b[39m\n",
       "\n",
       "    •  flag : (Integer) indicateur du déroulement de l'algorithme\n",
       "       • 0 : convergence\n",
       "       • 1 : nombre maximal d'itération atteint\n",
       "       • (-1) : une erreur s'est produite\n",
       "\n",
       "    •  niters : (Integer) nombre d'itérations réalisées\n",
       "\n",
       "    •  muks : (Array{Float64,1}) tableau des valeurs prises par mu_k au\n",
       "       cours de l'exécution\n",
       "\n",
       "    •  lambdaks : (Array{Float64,1}) tableau des valeurs prises par\n",
       "       lambda_k au cours de l'exécution\n",
       "\n",
       "\u001b[1m  Exemple d'appel\u001b[22m\n",
       "\u001b[1m  -----------------\u001b[22m\n",
       "\n",
       "\u001b[36m  using LinearAlgebra\u001b[39m\n",
       "\u001b[36m  algo = \"gct\" # ou newton|gct\u001b[39m\n",
       "\u001b[36m  f(x)=100*(x[2]-x[1]^2)^2+(1-x[1])^2\u001b[39m\n",
       "\u001b[36m  gradf(x)=[-400*x[1]*(x[2]-x[1]^2)-2*(1-x[1]) ; 200*(x[2]-x[1]^2)]\u001b[39m\n",
       "\u001b[36m  hessf(x)=[-400*(x[2]-3*x[1]^2)+2  -400*x[1];-400*x[1]  200]\u001b[39m\n",
       "\u001b[36m  c(x) =  (x[1]^2) + (x[2]^2) -1.5\u001b[39m\n",
       "\u001b[36m  gradc(x) = [2*x[1] ;2*x[2]]\u001b[39m\n",
       "\u001b[36m  hessc(x) = [2 0;0 2]\u001b[39m\n",
       "\u001b[36m  x0 = [1; 0]\u001b[39m\n",
       "\u001b[36m  options = []\u001b[39m\n",
       "\u001b[36m  xmin,fxmin,flag,iter,muks,lambdaks = Lagrangien_Augmente(algo,f,gradf,hessf,c,gradc,hessc,x0,options)\u001b[39m\n",
       "\n",
       "\u001b[1m  Tolérances des algorithmes appelés\u001b[22m\n",
       "\u001b[1m  ------------------------------------\u001b[22m\n",
       "\n",
       "  Pour les tolérances définies dans les algorithmes appelés (Newton et régions\n",
       "  de confiance), prendre les tolérances par défaut définies dans ces\n",
       "  algorithmes."
      ]
     },
     "metadata": {},
     "output_type": "display_data"
    }
   ],
   "source": [
    "using LinearAlgebra\n",
    "using Documenter\n",
    "using Markdown  \n",
    "include(\"Lagrangien_Augmente.jl\")\n",
    "@doc Lagrangien_Augmente"
   ]
  },
  {
   "cell_type": "markdown",
   "metadata": {},
   "source": [
    "3. Vérifier que les tests ci-dessous passent."
   ]
  },
  {
   "cell_type": "code",
   "execution_count": 3,
   "metadata": {},
   "outputs": [
    {
     "name": "stdout",
     "output_type": "stream",
     "text": [
      "\u001b[0m\u001b[1mTest Summary:            | \u001b[22m\u001b[32m\u001b[1mPass  \u001b[22m\u001b[39m\u001b[36m\u001b[1mTotal  \u001b[22m\u001b[39m\u001b[0m\u001b[1mTime\u001b[22m\n",
      "Test lagrangien augmente | \u001b[32m  12  \u001b[39m\u001b[36m   12  \u001b[39m\u001b[0m7.1s\n"
     ]
    }
   ],
   "source": [
    "using Test\n",
    "\n",
    "# Tolérance pour les tests d'égalité\n",
    "tol_erreur = sqrt(eps())\n",
    "\n",
    "## ajouter les fonctions de test\n",
    "include(\"../test/fonctions_de_tests.jl\")\n",
    "include(\"../test/tester_lagrangien_augmente.jl\")\n",
    "include(\"../src/Algorithme_De_Newton.jl\")\n",
    "include(\"../src/Pas_De_Cauchy.jl\")\n",
    "include(\"../src/Gradient_Conjugue_Tronque.jl\")\n",
    "include(\"../src/Regions_De_Confiance.jl\")\n",
    "include(\"../src/Lagrangien_Augmente.jl\")\n",
    "\n",
    "affiche = false\n",
    "\n",
    "@testset \"Test lagrangien augmente\" begin\n",
    "\ttester_lagrangien_augmente(affiche, Lagrangien_Augmente)\n",
    "end;"
   ]
  },
  {
   "cell_type": "markdown",
   "metadata": {},
   "source": [
    "## Interprétation\n",
    "\n",
    " 1. Commenter les résultats obtenus, en étudiant notamment les valeurs de $\\lambda_k$ et $\\mu_k$.\n",
    " \n",
    " 2. Étudier l'influence du paramètre $\\tau$ dans la performance de l'algorithme. Pour cela Vous réaliserez des tests numériques.\n",
    " \n",
    " 3. **Supplémentaire** : \n",
    "      Que proposez-vous comme méthode pour la résolution des problèmes avec\n",
    "      des contraintes à la fois d'égalité et d'inégalité ? Implémenter (si le temps le permet)\n",
    "      ce nouvel algorithme."
   ]
  },
  {
   "cell_type": "code",
   "execution_count": 6,
   "metadata": {},
   "outputs": [
    {
     "name": "stderr",
     "output_type": "stream",
     "text": [
      "\u001b[32m\u001b[1m   Resolving\u001b[22m\u001b[39m package versions...\n"
     ]
    },
    {
     "name": "stderr",
     "output_type": "stream",
     "text": [
      "\u001b[32m\u001b[1m  No Changes\u001b[22m\u001b[39m to `~/.julia/environments/v1.8/Project.toml`\n",
      "\u001b[32m\u001b[1m  No Changes\u001b[22m\u001b[39m to `~/.julia/environments/v1.8/Manifest.toml`\n"
     ]
    }
   ],
   "source": [
    "using Pkg;\n",
    "Pkg.add(\"Plots\"); \n",
    "using Plots"
   ]
  },
  {
   "cell_type": "code",
   "execution_count": 16,
   "metadata": {},
   "outputs": [
    {
     "ename": "BoundsError",
     "evalue": "BoundsError: attempt to access Tuple{Vector{Float64}, Float64, Int64, Int64} at index [5]",
     "output_type": "error",
     "traceback": [
      "BoundsError: attempt to access Tuple{Vector{Float64}, Float64, Int64, Int64} at index [5]\n",
      "\n",
      "Stacktrace:\n",
      " [1] indexed_iterate(t::Tuple{Vector{Float64}, Float64, Int64, Int64}, i::Int64, state::Int64)\n",
      "   @ Base ./tuple.jl:88\n",
      " [2] top-level scope\n",
      "   @ ~/Enseeiht/S7/Opti/Givencode/src/lagrangien_augmente.ipynb:22"
     ]
    }
   ],
   "source": [
    "lambda0 = 2\n",
    "mu0 = 10\n",
    "tho = 2\n",
    "epsilon = 1.\n",
    "tol = 1e-5\n",
    "max_iters = 1000\n",
    "options = [epsilon, tol, max_iters, lambda0, mu0, tho]\n",
    "# La tolérance utilisée dans les tests\n",
    "tol_erreur = 1e-4\n",
    "algos = [\"newton\", \"gct\", \"cauchy\"]\n",
    "muk1=[]\n",
    "muk2=[]\n",
    "muk3=[]\n",
    "muk4=[]\n",
    "lambdak1=[]\n",
    "lambdak2=[]\n",
    "lambdak3=[]\n",
    "lambdak4=[]\n",
    "\n",
    "for algo in algos\n",
    "    # le cas de test 1\n",
    "    xmin,fxmin,flag,iter, muks, lambdaks = Lagrangien_Augmente(algo,fct1,contrainte1,grad_fct1,hess_fct1,grad_contrainte1,hess_contrainte1,pts2.x01,options)\n",
    "    println(muks)\n",
    "    push!(muk1,muks')\n",
    "    push!(lambdak1,lambdaks')\n",
    "    # le cas de test 2\n",
    "    ~,muk,lambdak = Lagrangien_Augmente(algo,fct1,contrainte1,grad_fct1,hess_fct1,grad_contrainte1,hess_contrainte1,pts2.x02,options)\n",
    "    push!(muk2,muk')\n",
    "    push!(lambdak2,lambdak')\n",
    "    # le cas de test 3\n",
    "    ~,muk,lambdak = Lagrangien_Augmente(algo,fct2,contrainte2,grad_fct2,hess_fct2,grad_contrainte2,hess_contrainte2,pts2.x03,options)\n",
    "    push!(muk3,muk')\n",
    "    push!(lambdak3,lambdak')\n",
    "    # le cas de test 4\n",
    "    ~,muk,lambdak = Lagrangien_Augmente(algo,fct2,contrainte2,grad_fct2,hess_fct2,grad_contrainte2,hess_contrainte2,pts2.x04,options)\n",
    "    push!(muk4,muk')\n",
    "    push!(lambdak4,lambdak')\n",
    "end"
   ]
  },
  {
   "cell_type": "code",
   "execution_count": 17,
   "metadata": {},
   "outputs": [
    {
     "ename": "UndefVarError",
     "evalue": "UndefVarError: muk not defined",
     "output_type": "error",
     "traceback": [
      "UndefVarError: muk not defined\n"
     ]
    }
   ],
   "source": []
  },
  {
   "attachments": {},
   "cell_type": "markdown",
   "metadata": {},
   "source": []
  }
 ],
 "metadata": {
  "kernelspec": {
   "display_name": "Julia 1.8.2",
   "language": "julia",
   "name": "julia-1.8"
  },
  "language_info": {
   "file_extension": ".jl",
   "mimetype": "application/julia",
   "name": "julia",
   "version": "1.8.2"
  }
 },
 "nbformat": 4,
 "nbformat_minor": 4
}
