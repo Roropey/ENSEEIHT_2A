{
 "cells": [
  {
   "cell_type": "markdown",
   "metadata": {},
   "source": [
    "<center>\n",
    "<h1> TP-Projet d'optimisation numérique </h1>\n",
    "<h1> Algorithme des Régions de Confiance </h1>\n",
    "</center>"
   ]
  },
  {
   "cell_type": "markdown",
   "metadata": {},
   "source": [
    "# Régions de confiance avec Pas de Cauchy \n",
    "\n",
    "## Implémentation \n",
    "\n",
    "1. Coder l'algorithme du pas de Cauchy d’un sous-problème de\n",
    "régions de confiance (fichier `Pas_De_Cauchy.jl`). La spécification de cet algorithme est donnée ci-dessous."
   ]
  },
  {
   "cell_type": "code",
   "execution_count": 5,
   "metadata": {},
   "outputs": [
    {
     "data": {
      "text/plain": [
       "Pas_De_Cauchy"
      ]
     },
     "metadata": {},
     "output_type": "display_data"
    }
   ],
   "source": [
    "using LinearAlgebra\n",
    "using Documenter\n",
    "using Markdown  \n",
    "include(\"Pas_De_Cauchy.jl\")\n",
    "# @doc Pas_De_Cauchy"
   ]
  },
  {
   "cell_type": "markdown",
   "metadata": {},
   "source": [
    "2. Ecrire des tests exhaustifs (qui testent tous les cas de figure possibles) pour votre algorithme du Pas de Cauchy. Vous créerez pour cela un fichier `tester_pas_de_Cauchy.jl` dans le répertoire `test` sur le modèle des autres fichiers de tests et vous exécuterez dans la cellule de code ci-après ces tests."
   ]
  },
  {
   "cell_type": "code",
   "execution_count": 6,
   "metadata": {},
   "outputs": [
    {
     "name": "stdout",
     "output_type": "stream",
     "text": [
      "\u001b[0m\u001b[1mTest Summary:           | \u001b[22m\u001b[32m\u001b[1mPass  \u001b[22m\u001b[39m\u001b[36m\u001b[1mTotal  \u001b[22m\u001b[39m\u001b[0m\u001b[1mTime\u001b[22m\n",
      "Test algo pas de Cauchy | \u001b[32m   2  \u001b[39m\u001b[36m    2  \u001b[39m\u001b[0m1.0s\n"
     ]
    }
   ],
   "source": [
    "using Test\n",
    "\n",
    "# Tolérance pour les tests d'égalité\n",
    "tol_erreur = sqrt(eps())\n",
    "\n",
    "## ajouter les fonctions de test\n",
    "include(\"../test/fonctions_de_tests.jl\")\n",
    "include(\"../test/tester_pas_de_Cauchy.jl\")\n",
    "include(\"../src/Pas_De_Cauchy.jl\")\n",
    "\n",
    "affiche = false\n",
    "\n",
    "@testset \"Test algo pas de Cauchy\" begin\n",
    "\t# Tester l'algorithme de Newton\n",
    "\ttester_pas_de_Cauchy(affiche,Pas_De_Cauchy)\n",
    "end;"
   ]
  },
  {
   "cell_type": "markdown",
   "metadata": {},
   "source": [
    "3. Coder l'algorithme des Régions de Confiance (fichier `Regions_De_Confiance.jl`). Sa spécification est donnée ci-dessous."
   ]
  },
  {
   "cell_type": "code",
   "execution_count": 7,
   "metadata": {},
   "outputs": [
    {
     "data": {
      "text/plain": [
       "Regions_De_Confiance"
      ]
     },
     "metadata": {},
     "output_type": "display_data"
    }
   ],
   "source": [
    "include(\"Regions_De_Confiance.jl\")\n",
    "# @doc Regions_De_Confiance"
   ]
  },
  {
   "cell_type": "markdown",
   "metadata": {},
   "source": [
    "4. Vérifier que les tests ci-dessous passent."
   ]
  },
  {
   "cell_type": "code",
   "execution_count": 8,
   "metadata": {},
   "outputs": [
    {
     "name": "stdout",
     "output_type": "stream",
     "text": [
      "iters = 864\n",
      "avec GCT "
     ]
    },
    {
     "name": "stdout",
     "output_type": "stream",
     "text": [
      ": \u001b[91m\u001b[1mError During Test\u001b[22m\u001b[39m"
     ]
    },
    {
     "name": "stdout",
     "output_type": "stream",
     "text": [
      " at \u001b[39m\u001b[1m/home/romai/Enseeiht/S7/Opti/peyremorte_romain_m2/test/tester_regions_de_confiance.jl:92\u001b[22m\n",
      "  Got exception outside of a @test\n"
     ]
    },
    {
     "name": "stdout",
     "output_type": "stream",
     "text": [
      "  UndefVarError: Gradient_Conjugue_Tronque not defined\n",
      "  Stacktrace:\n",
      "    [1] \u001b[0m\u001b[1mRegions_De_Confiance\u001b[22m\u001b[0m\u001b[1m(\u001b[22m\u001b[90malgo\u001b[39m::\u001b[0mString, \u001b[90mf\u001b[39m::\u001b[0mtypeof(fct1), \u001b[90mgradf\u001b[39m::\u001b[0mtypeof(grad_fct1), \u001b[90mhessf\u001b[39m::\u001b[0mtypeof(hess_fct1), \u001b[90mx0\u001b[39m::\u001b[0mVector\u001b[90m{Int64}\u001b[39m, \u001b[90moptions\u001b[39m::\u001b[0mVector\u001b[90m{Float64}\u001b[39m\u001b[0m\u001b[1m)\u001b[22m\n",
      "  \u001b[90m    @ \u001b[39m\u001b[35mMain\u001b[39m \u001b[90m~/Enseeiht/S7/Opti/peyremorte_romain_m2/src/\u001b[39m\u001b[90m\u001b[4mRegions_De_Confiance.jl:101\u001b[24m\u001b[39m\n",
      "    [2] \u001b[0m\u001b[1mmacro expansion\u001b[22m\n",
      "  \u001b[90m    @ \u001b[39m\u001b[90m~/Enseeiht/S7/Opti/peyremorte_romain_m2/test/\u001b[39m\u001b[90m\u001b[4mtester_regions_de_confiance.jl:94\u001b[24m\u001b[39m\u001b[90m [inlined]\u001b[39m\n",
      "    [3] \u001b[0m\u001b[1mmacro expansion\u001b[22m\n",
      "  \u001b[90m    @ \u001b[39m\u001b[90m/julia-1.8.2/share/julia/stdlib/v1.8/Test/src/\u001b[39m\u001b[90m\u001b[4mTest.jl:1357\u001b[24m\u001b[39m\u001b[90m [inlined]\u001b[39m\n",
      "    [4] \u001b[0m\u001b[1mmacro expansion\u001b[22m\n",
      "  \u001b[90m    @ \u001b[39m\u001b[90m~/Enseeiht/S7/Opti/peyremorte_romain_m2/test/\u001b[39m\u001b[90m\u001b[4mtester_regions_de_confiance.jl:94\u001b[24m\u001b[39m\u001b[90m [inlined]\u001b[39m\n",
      "    [5] \u001b[0m\u001b[1mmacro expansion\u001b[22m\n",
      "  \u001b[90m    @ \u001b[39m\u001b[90m/julia-1.8.2/share/julia/stdlib/v1.8/Test/src/\u001b[39m\u001b[90m\u001b[4mTest.jl:1357\u001b[24m\u001b[39m\u001b[90m [inlined]\u001b[39m\n",
      "    [6] \u001b[0m\u001b[1mtester_regions_de_confiance\u001b[22m\u001b[0m\u001b[1m(\u001b[22m\u001b[90mafficher\u001b[39m::\u001b[0mBool, \u001b[90mRegions_De_Confiance\u001b[39m::\u001b[0mtypeof(Regions_De_Confiance)\u001b[0m\u001b[1m)\u001b[22m\n",
      "  \u001b[90m    @ \u001b[39m\u001b[35mMain\u001b[39m \u001b[90m~/Enseeiht/S7/Opti/peyremorte_romain_m2/test/\u001b[39m\u001b[90m\u001b[4mtester_regions_de_confiance.jl:40\u001b[24m\u001b[39m\n",
      "    [7] \u001b[0m\u001b[1mmacro expansion\u001b[22m\n",
      "  \u001b[90m    @ \u001b[39m\u001b[90m~/Enseeiht/S7/Opti/peyremorte_romain_m2/src/\u001b[39m\u001b[90m\u001b[4mregions_confiance.ipynb:15\u001b[24m\u001b[39m\u001b[90m [inlined]\u001b[39m\n",
      "    [8] \u001b[0m\u001b[1mmacro expansion\u001b[22m\n",
      "  \u001b[90m    @ \u001b[39m\u001b[90m/julia-1.8.2/share/julia/stdlib/v1.8/Test/src/\u001b[39m\u001b[90m\u001b[4mTest.jl:1357\u001b[24m\u001b[39m\u001b[90m [inlined]\u001b[39m\n",
      "    [9] top-level scope\n",
      "  \u001b[90m    @ \u001b[39m\u001b[90m~/Enseeiht/S7/Opti/peyremorte_romain_m2/src/\u001b[39m\u001b[90m\u001b[4mregions_confiance.ipynb:15\u001b[24m\u001b[39m\n",
      "   [10] \u001b[0m\u001b[1meval\u001b[22m\n",
      "  \u001b[90m    @ \u001b[39m\u001b[90m./\u001b[39m\u001b[90m\u001b[4mboot.jl:368\u001b[24m\u001b[39m\u001b[90m [inlined]\u001b[39m\n",
      "   [11] \u001b[0m\u001b[1minclude_string\u001b[22m\u001b[0m\u001b[1m(\u001b[22m\u001b[90mmapexpr\u001b[39m::\u001b[0mtypeof(REPL.softscope), \u001b[90mmod\u001b[39m::\u001b[0mModule, \u001b[90mcode\u001b[39m::\u001b[0mString, \u001b[90mfilename\u001b[39m::\u001b[0mString\u001b[0m\u001b[1m)\u001b[22m\n",
      "  \u001b[90m    @ \u001b[39m\u001b[90mBase\u001b[39m \u001b[90m./\u001b[39m\u001b[90m\u001b[4mloading.jl:1428\u001b[24m\u001b[39m\n",
      "   [12] \u001b[0m\u001b[1m#invokelatest#2\u001b[22m\n",
      "  \u001b[90m    @ \u001b[39m\u001b[90m./\u001b[39m\u001b[90m\u001b[4messentials.jl:729\u001b[24m\u001b[39m\u001b[90m [inlined]\u001b[39m\n",
      "   [13] \u001b[0m\u001b[1minvokelatest\u001b[22m\n",
      "  \u001b[90m    @ \u001b[39m\u001b[90m./\u001b[39m\u001b[90m\u001b[4messentials.jl:726\u001b[24m\u001b[39m\u001b[90m [inlined]\u001b[39m\n",
      "   [14] \u001b[0m\u001b[1m(::VSCodeServer.var\"#198#199\"{VSCodeServer.NotebookRunCellArguments, String})\u001b[22m\u001b[0m\u001b[1m(\u001b[22m\u001b[0m\u001b[1m)\u001b[22m\n",
      "  \u001b[90m    @ \u001b[39m\u001b[36mVSCodeServer\u001b[39m \u001b[90m~/.vscode-server/extensions/julialang.language-julia-1.38.2/scripts/packages/VSCodeServer/src/\u001b[39m\u001b[90m\u001b[4mserve_notebook.jl:19\u001b[24m\u001b[39m\n",
      "   [15] \u001b[0m\u001b[1mwithpath\u001b[22m\u001b[0m\u001b[1m(\u001b[22m\u001b[90mf\u001b[39m::\u001b[0mVSCodeServer.var\"#198#199\"\u001b[90m{VSCodeServer.NotebookRunCellArguments, String}\u001b[39m, \u001b[90mpath\u001b[39m::\u001b[0mString\u001b[0m\u001b[1m)\u001b[22m\n",
      "  \u001b[90m    @ \u001b[39m\u001b[36mVSCodeServer\u001b[39m \u001b[90m~/.vscode-server/extensions/julialang.language-julia-1.38.2/scripts/packages/VSCodeServer/src/\u001b[39m\u001b[90m\u001b[4mrepl.jl:249\u001b[24m\u001b[39m\n",
      "   [16] \u001b[0m\u001b[1mnotebook_runcell_request\u001b[22m\u001b[0m\u001b[1m(\u001b[22m\u001b[90mconn\u001b[39m::\u001b[0mVSCodeServer.JSONRPC.JSONRPCEndpoint\u001b[90m{Base.PipeEndpoint, Base.PipeEndpoint}\u001b[39m, \u001b[90mparams\u001b[39m::\u001b[0mVSCodeServer.NotebookRunCellArguments\u001b[0m\u001b[1m)\u001b[22m\n",
      "  \u001b[90m    @ \u001b[39m\u001b[36mVSCodeServer\u001b[39m \u001b[90m~/.vscode-server/extensions/julialang.language-julia-1.38.2/scripts/packages/VSCodeServer/src/\u001b[39m\u001b[90m\u001b[4mserve_notebook.jl:13\u001b[24m\u001b[39m\n",
      "   [17] \u001b[0m\u001b[1mdispatch_msg\u001b[22m\u001b[0m\u001b[1m(\u001b[22m\u001b[90mx\u001b[39m::\u001b[0mVSCodeServer.JSONRPC.JSONRPCEndpoint\u001b[90m{Base.PipeEndpoint, Base.PipeEndpoint}\u001b[39m, \u001b[90mdispatcher\u001b[39m::\u001b[0mVSCodeServer.JSONRPC.MsgDispatcher, \u001b[90mmsg\u001b[39m::\u001b[0mDict\u001b[90m{String, Any}\u001b[39m\u001b[0m\u001b[1m)\u001b[22m\n",
      "  \u001b[90m    @ \u001b[39m\u001b[36mVSCodeServer.JSONRPC\u001b[39m \u001b[90m~/.vscode-server/extensions/julialang.language-julia-1.38.2/scripts/packages/JSONRPC/src/\u001b[39m\u001b[90m\u001b[4mtyped.jl:67\u001b[24m\u001b[39m\n",
      "   [18] \u001b[0m\u001b[1mserve_notebook\u001b[22m\u001b[0m\u001b[1m(\u001b[22m\u001b[90mpipename\u001b[39m::\u001b[0mString, \u001b[90moutputchannel_logger\u001b[39m::\u001b[0mBase.CoreLogging.SimpleLogger; \u001b[90mcrashreporting_pipename\u001b[39m::\u001b[0mString\u001b[0m\u001b[1m)\u001b[22m\n",
      "  \u001b[90m    @ \u001b[39m\u001b[36mVSCodeServer\u001b[39m \u001b[90m~/.vscode-server/extensions/julialang.language-julia-1.38.2/scripts/packages/VSCodeServer/src/\u001b[39m\u001b[90m\u001b[4mserve_notebook.jl:139\u001b[24m\u001b[39m\n",
      "   [19] top-level scope\n",
      "  \u001b[90m    @ \u001b[39m\u001b[90m~/.vscode-server/extensions/julialang.language-julia-1.38.2/scripts/notebook/\u001b[39m\u001b[90m\u001b[4mnotebook.jl:32\u001b[24m\u001b[39m\n",
      "   [20] \u001b[0m\u001b[1minclude\u001b[22m\u001b[0m\u001b[1m(\u001b[22m\u001b[90mmod\u001b[39m::\u001b[0mModule, \u001b[90m_path\u001b[39m::\u001b[0mString\u001b[0m\u001b[1m)\u001b[22m\n",
      "  \u001b[90m    @ \u001b[39m\u001b[90mBase\u001b[39m \u001b[90m./\u001b[39m\u001b[90m\u001b[4mBase.jl:419\u001b[24m\u001b[39m\n",
      "   [21] \u001b[0m\u001b[1mexec_options\u001b[22m\u001b[0m\u001b[1m(\u001b[22m\u001b[90mopts\u001b[39m::\u001b[0mBase.JLOptions\u001b[0m\u001b[1m)\u001b[22m\n",
      "  \u001b[90m    @ \u001b[39m\u001b[90mBase\u001b[39m \u001b[90m./\u001b[39m\u001b[90m\u001b[4mclient.jl:303\u001b[24m\u001b[39m\n",
      "   [22] \u001b[0m\u001b[1m_start\u001b[22m\u001b[0m\u001b[1m(\u001b[22m\u001b[0m\u001b[1m)\u001b[22m\n",
      "  \u001b[90m    @ \u001b[39m\u001b[90mBase\u001b[39m \u001b[90m./\u001b[39m\u001b[90m\u001b[4mclient.jl:522\u001b[24m\u001b[39m\n",
      "\u001b[0m\u001b[1mTest Summary:        | \u001b[22m\u001b[32m\u001b[1mPass  \u001b[22m\u001b[39m\u001b[91m\u001b[1mError  \u001b[22m\u001b[39m\u001b[36m\u001b[1mTotal  \u001b[22m\u001b[39m\u001b[0m\u001b[1mTime\u001b[22m\n",
      "Test rc avec cauchy  | \u001b[32m  15  \u001b[39m\u001b[91m    1  \u001b[39m\u001b[36m   16  \u001b[39m\u001b[0m2.4s\n",
      "  La méthode des RC  | \u001b[32m  15  \u001b[39m\u001b[91m    1  \u001b[39m\u001b[36m   16  \u001b[39m\u001b[0m1.9s\n",
      "    avec Cauchy      | \u001b[32m  15  \u001b[39m       \u001b[36m   15  \u001b[39m\u001b[0m1.3s\n",
      "    avec GCT         |       \u001b[91m    1  \u001b[39m\u001b[36m    1  \u001b[39m\u001b[0m0.6s\n"
     ]
    },
    {
     "ename": "TestSetException",
     "evalue": "Some tests did not pass: 15 passed, 0 failed, 1 errored, 0 broken.",
     "output_type": "error",
     "traceback": [
      "Some tests did not pass: 15 passed, 0 failed, 1 errored, 0 broken.\n",
      "\n",
      "Stacktrace:\n",
      " [1] finish(ts::Test.DefaultTestSet)\n",
      "   @ Test /julia-1.8.2/share/julia/stdlib/v1.8/Test/src/Test.jl:1092\n",
      " [2] macro expansion\n",
      "   @ /julia-1.8.2/share/julia/stdlib/v1.8/Test/src/Test.jl:1368 [inlined]\n",
      " [3] top-level scope\n",
      "   @ ~/Enseeiht/S7/Opti/peyremorte_romain_m2/src/regions_confiance.ipynb:15"
     ]
    }
   ],
   "source": [
    "using Test\n",
    "\n",
    "# Tolérance pour les tests d'égalité\n",
    "tol_erreur = sqrt(eps())\n",
    "\n",
    "## ajouter les fonctions de test\n",
    "include(\"../test/fonctions_de_tests.jl\")\n",
    "include(\"../test/tester_regions_de_confiance.jl\")\n",
    "include(\"../src/Pas_De_Cauchy.jl\")\n",
    "include(\"../src/Regions_De_Confiance.jl\")\n",
    "\n",
    "affiche = false\n",
    "\n",
    "@testset \"Test rc avec cauchy\" begin\n",
    "\ttester_regions_de_confiance(affiche,Regions_De_Confiance)\n",
    "end;"
   ]
  },
  {
   "cell_type": "markdown",
   "metadata": {},
   "source": [
    "## Interprétation \n",
    "\n",
    "<!-- Pour ces questions, des représentations graphiques sont attendues pour corroborer vos réponses. -->\n",
    "\n",
    "1. Soit $$ f_{1} : \\mathbf{R}^3 \\rightarrow \\mathbf{R}$$ $$ (x_1,x_2, x_3) \\mapsto  2 (x_1 +x_2 + x_3 -3)^2 + (x_1-x_2)^2 + (x_2 - x_3)^2$$ Quelle relation lie la fonction $f_1$ et son modèle de Taylor à l’ordre 2 ? Comparer alors les performances de Newton et RC-Pas de Cauchy sur cette fonction.\n",
    "\n",
    "2.  Le rayon initial de la région de confiance est un paramètre important dans l’analyse\n",
    "de la performance de l’algorithme. Sur quel(s) autre(s) paramètre(s) peut-on jouer\n",
    "pour essayer d’améliorer cette performance ? Étudier l’influence d’au moins deux de\n",
    "ces paramètres. Pour cela vous ferez des tests numériques et donnerez les résultats sous forme de tableaux et de graphiques."
   ]
  },
  {
   "cell_type": "markdown",
   "metadata": {},
   "source": [
    "# Régions de confiance avec Gradient Conjugué\n",
    "## Implémentation \n",
    "\n",
    "1. Implémenter l’algorithme du Gradient Conjugué Tronqué (fichier `Gradient_Conjugue_Tronque.jl`). Sa spécification est donnée ci-dessous."
   ]
  },
  {
   "cell_type": "code",
   "execution_count": 9,
   "metadata": {},
   "outputs": [
    {
     "data": {
      "text/plain": [
       "Gradient_Conjugue_Tronque"
      ]
     },
     "metadata": {},
     "output_type": "display_data"
    }
   ],
   "source": [
    "include(\"Gradient_Conjugue_Tronque.jl\")\n",
    "# @doc Gradient_Conjugue_Tronque"
   ]
  },
  {
   "cell_type": "markdown",
   "metadata": {},
   "source": [
    "2. Vérifier que les tests ci-dessous passent."
   ]
  },
  {
   "cell_type": "code",
   "execution_count": 10,
   "metadata": {},
   "outputs": [
    {
     "name": "stdout",
     "output_type": "stream",
     "text": [
      "\u001b[0m\u001b[1mTest Summary: | \u001b[22m\u001b[32m\u001b[1mPass  \u001b[22m\u001b[39m\u001b[36m\u001b[1mTotal  \u001b[22m\u001b[39m\u001b[0m\u001b[1mTime\u001b[22m\n",
      "Test gct      | \u001b[32m   9  \u001b[39m\u001b[36m    9  \u001b[39m\u001b[0m1.6s\n"
     ]
    }
   ],
   "source": [
    "using Test\n",
    "\n",
    "# Tolérance pour les tests d'égalité\n",
    "tol_erreur = sqrt(eps())\n",
    "\n",
    "## ajouter les fonctions de test\n",
    "include(\"../test/fonctions_de_tests.jl\")\n",
    "include(\"../test/tester_gct.jl\")\n",
    "include(\"../src/Gradient_Conjugue_Tronque.jl\")\n",
    "\n",
    "affiche = false\n",
    "\n",
    "@testset \"Test gct\" begin\n",
    "\ttester_gct(affiche,Gradient_Conjugue_Tronque)\n",
    "end;"
   ]
  },
  {
   "cell_type": "markdown",
   "metadata": {},
   "source": [
    "3. Intégrer l’algorithme du Gradient Conjugué Tronqué dans le code de régions de confiance (fichier `Regions_De_Confiance.jl`).\n",
    "\n",
    "4. Décommenter les tests avec le gradient conjugué dans `tester_regions_de_confiance.jl` et vérifier que les tests passent."
   ]
  },
  {
   "cell_type": "code",
   "execution_count": 1,
   "metadata": {},
   "outputs": [
    {
     "ename": "LoadError",
     "evalue": "LoadError: UndefVarError: @doc_str not defined\nin expression starting at /home/romai/Enseeiht/S7/Opti/peyremorte_romain_m2/test/tester_regions_de_confiance.jl:1\nin expression starting at /home/romai/Enseeiht/S7/Opti/peyremorte_romain_m2/test/tester_regions_de_confiance.jl:1",
     "output_type": "error",
     "traceback": [
      "LoadError: UndefVarError: @doc_str not defined\n",
      "in expression starting at /home/romai/Enseeiht/S7/Opti/peyremorte_romain_m2/test/tester_regions_de_confiance.jl:1\n",
      "in expression starting at /home/romai/Enseeiht/S7/Opti/peyremorte_romain_m2/test/tester_regions_de_confiance.jl:1\n"
     ]
    }
   ],
   "source": [
    "using Test\n",
    "\n",
    "# Tolérance pour les tests d'égalité\n",
    "tol_erreur = sqrt(eps())\n",
    "\n",
    "## ajouter les fonctions de test\n",
    "include(\"../test/fonctions_de_tests.jl\")\n",
    "include(\"../test/tester_regions_de_confiance.jl\")\n",
    "include(\"../src/Pas_De_Cauchy.jl\")\n",
    "include(\"../src/Gradient_Conjugue_Tronque.jl\")\n",
    "include(\"../src/Regions_De_Confiance.jl\")\n",
    "\n",
    "affiche = false\n",
    "\n",
    "@testset \"Test rc avec cauchy et gct\" begin\n",
    "\ttester_regions_de_confiance(affiche,Regions_De_Confiance)\n",
    "end;"
   ]
  },
  {
   "cell_type": "markdown",
   "metadata": {},
   "source": [
    "## Interprétation  \n",
    "\n",
    "1. Comparer la décroissance obtenue avec celle du pas de Cauchy, en imposant la sortie\n",
    "dans l’algorithme au bout d’une itération seulement. Vous donnerez ci-après des résultats numériques. \n",
    "    1. Que remarquez vous ?\n",
    "    2. Comparer la décroissance obtenue avec celle du pas de Cauchy dans le cas général.\n",
    "\n",
    "3. Quels sont les avantages et inconvénients des deux approches ?"
   ]
  },
  {
   "cell_type": "code",
   "execution_count": 2,
   "metadata": {},
   "outputs": [],
   "source": []
  },
  {
   "cell_type": "code",
   "execution_count": 3,
   "metadata": {},
   "outputs": [],
   "source": []
  },
  {
   "cell_type": "code",
   "execution_count": 4,
   "metadata": {},
   "outputs": [],
   "source": []
  }
 ],
 "metadata": {
  "kernelspec": {
   "display_name": "Julia 1.8.2",
   "language": "julia",
   "name": "julia-1.8"
  },
  "language_info": {
   "file_extension": ".jl",
   "mimetype": "application/julia",
   "name": "julia",
   "version": "1.8.2"
  }
 },
 "nbformat": 4,
 "nbformat_minor": 4
}
